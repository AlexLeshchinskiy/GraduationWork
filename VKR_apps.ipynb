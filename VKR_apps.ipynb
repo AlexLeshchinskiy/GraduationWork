{
 "cells": [
  {
   "cell_type": "code",
   "execution_count": 1,
   "id": "1616275e",
   "metadata": {},
   "outputs": [],
   "source": [
    "import numpy as np\n",
    "import tensorflow as tf\n",
    "from tensorflow import keras"
   ]
  },
  {
   "cell_type": "code",
   "execution_count": 2,
   "id": "7034ce51",
   "metadata": {},
   "outputs": [
    {
     "name": "stdout",
     "output_type": "stream",
     "text": [
      "Requirement already satisfied: flask in /opt/anaconda3/lib/python3.9/site-packages (1.1.2)\n",
      "Requirement already satisfied: itsdangerous>=0.24 in /opt/anaconda3/lib/python3.9/site-packages (from flask) (2.0.1)\n",
      "Requirement already satisfied: click>=5.1 in /opt/anaconda3/lib/python3.9/site-packages (from flask) (8.0.3)\n",
      "Requirement already satisfied: Jinja2>=2.10.1 in /opt/anaconda3/lib/python3.9/site-packages (from flask) (2.11.3)\n",
      "Requirement already satisfied: Werkzeug>=0.15 in /opt/anaconda3/lib/python3.9/site-packages (from flask) (2.0.2)\n",
      "Requirement already satisfied: MarkupSafe>=0.23 in /opt/anaconda3/lib/python3.9/site-packages (from Jinja2>=2.10.1->flask) (1.1.1)\n"
     ]
    }
   ],
   "source": [
    "!pip install flask"
   ]
  },
  {
   "cell_type": "code",
   "execution_count": 3,
   "id": "d8439d66",
   "metadata": {},
   "outputs": [],
   "source": [
    "from flask import Flask, request, render_template"
   ]
  },
  {
   "cell_type": "code",
   "execution_count": 4,
   "id": "8a112ffd",
   "metadata": {},
   "outputs": [],
   "source": [
    "app = Flask(__name__)"
   ]
  },
  {
   "cell_type": "code",
   "execution_count": 5,
   "id": "4a178197",
   "metadata": {},
   "outputs": [],
   "source": [
    "def processing_params(param1, param2, param3, param4, param5, param6, param7, param8, param9, param10, param11, param12):\n",
    "    model = keras.load_model(\"/Users/apple/Downloads/Data Science/Итоговый проект/mine/models/VKR_keras_model.h5\")\n",
    "    pred = model.predict([param1, param2, param3, param4, param5, param6, param7, param8, param9, param10, param11, param12])\n",
    "    return pred"
   ]
  },
  {
   "cell_type": "code",
   "execution_count": 6,
   "id": "65e25507",
   "metadata": {},
   "outputs": [],
   "source": [
    "@app.route('/VKR_keras_model.h5/', methods=['post', 'get']) \n",
    "def matrix_filler():\n",
    "    message = '' \n",
    "    if request.method == 'POST': \n",
    "        param1 = request.form.get('param1')\n",
    "        param2 = request.form.get('param2')\n",
    "        param3 = request.form.get('param3')\n",
    "        param4 = request.form.get('param4')\n",
    "        param5 = request.form.get('param5')\n",
    "        param6 = request.form.get('param6')\n",
    "        param7 = request.form.get('param7')\n",
    "        param8 = request.form.get('param8')\n",
    "        param9 = request.form.get('param9')\n",
    "        param10 = request.form.get('param10')\n",
    "        param11 = request.form.get('param11')\n",
    "        param12 = request.form.get('param12')\n",
    "        \n",
    "        param1 = float(param1)\n",
    "        param2 = float(param2)\n",
    "        param3 = float(param3)\n",
    "        param4 = float(param4)\n",
    "        param5 = float(param5)\n",
    "        param6 = float(param6)\n",
    "        param7 = float(param7)\n",
    "        param8 = float(param8)\n",
    "        param9 = float(param9)\n",
    "        param10 = float(param10)\n",
    "        param11 = float(param11)\n",
    "        param12 = float(param12)\n",
    "\n",
    "        message = processing_params(param1, param2, param3, param4, param5, param6, param7, param8, param9, param10, param11, param12)\n",
    "        \n",
    "    return render_template('___________.html', message = message) "
   ]
  },
  {
   "cell_type": "code",
   "execution_count": null,
   "id": "07da44ea",
   "metadata": {},
   "outputs": [],
   "source": [
    "app.run() "
   ]
  }
 ],
 "metadata": {
  "kernelspec": {
   "display_name": "Python 3 (ipykernel)",
   "language": "python",
   "name": "python3"
  },
  "language_info": {
   "codemirror_mode": {
    "name": "ipython",
    "version": 3
   },
   "file_extension": ".py",
   "mimetype": "text/x-python",
   "name": "python",
   "nbconvert_exporter": "python",
   "pygments_lexer": "ipython3",
   "version": "3.9.7"
  }
 },
 "nbformat": 4,
 "nbformat_minor": 5
}
